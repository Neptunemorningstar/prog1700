{
 "cells": [
  {
   "cell_type": "code",
   "execution_count": 4,
   "metadata": {
    "dotnet_interactive": {
     "language": "pwsh"
    },
    "polyglot_notebook": {
     "kernelName": "pwsh"
    },
    "vscode": {
     "languageId": "polyglot-notebook"
    }
   },
   "outputs": [
    {
     "name": "stdout",
     "output_type": "stream",
     "text": [
      "0\n",
      "1\n",
      "2\n",
      "3\n",
      "4\n",
      "5\n"
     ]
    }
   ],
   "source": [
    "# basic while loops \n",
    "$Counter = 0 \n",
    "while ($Counter -le 5) { write-host $Counter\n",
    "#$Counter = $Counter + 1\n",
    "#$Counter += 1 \n",
    "$Counter++}\n"
   ]
  },
  {
   "cell_type": "code",
   "execution_count": 5,
   "metadata": {
    "dotnet_interactive": {
     "language": "pwsh"
    },
    "polyglot_notebook": {
     "kernelName": "pwsh"
    },
    "vscode": {
     "languageId": "polyglot-notebook"
    }
   },
   "outputs": [
    {
     "name": "stdout",
     "output_type": "stream",
     "text": [
      ".\n",
      ".\n"
     ]
    }
   ],
   "source": [
    "# while based on strings \n",
    "$userinput = \" \"\n",
    "while ($userinput -ne \"Exit\"){\n",
    "$userinput = Read-host \"Enter something\"\n",
    "Write-host \".\"\n",
    "\n",
    "}"
   ]
  },
  {
   "cell_type": "code",
   "execution_count": 6,
   "metadata": {
    "dotnet_interactive": {
     "language": "pwsh"
    },
    "polyglot_notebook": {
     "kernelName": "pwsh"
    },
    "vscode": {
     "languageId": "polyglot-notebook"
    }
   },
   "outputs": [
    {
     "name": "stdout",
     "output_type": "stream",
     "text": [
      "counter1: 1, Counter2: 10\n",
      "counter1: 2, Counter2: 9\n",
      "counter1: 3, Counter2: 8\n",
      "counter1: 4, Counter2: 7\n"
     ]
    }
   ],
   "source": [
    "#compound din a loop \n",
    "$counter1 = 1 \n",
    "$counter2 = 10 \n",
    "while ($Counter1 -lt 5 -and $counter2 -gt 5) { write-host \"counter1: $counter1, Counter2: $counter2\"\n",
    "$Counter1++\n",
    "$counter2--\n",
    "}"
   ]
  },
  {
   "cell_type": "code",
   "execution_count": 1,
   "metadata": {
    "dotnet_interactive": {
     "language": "pwsh"
    },
    "polyglot_notebook": {
     "kernelName": "pwsh"
    },
    "vscode": {
     "languageId": "polyglot-notebook"
    }
   },
   "outputs": [
    {
     "name": "stdout",
     "output_type": "stream",
     "text": [
      "login deined\r\n"
     ]
    }
   ],
   "source": [
    "#exaple \n",
    "$userinput = \"\" \n",
    "$count = 0 \n",
    "while ($userinput -ne \"password\" -and $count -lt 3){ \n",
    "    $userinput= read-host \"enter password\"\n",
    "    $count++\n",
    "} if ($userinput -eq \"password\"){ Write-host \"logged in\"} else\n",
    "{Write-host \"login deined\" }\n"
   ]
  },
  {
   "cell_type": "code",
   "execution_count": 5,
   "metadata": {
    "dotnet_interactive": {
     "language": "pwsh"
    },
    "polyglot_notebook": {
     "kernelName": "pwsh"
    },
    "vscode": {
     "languageId": "polyglot-notebook"
    }
   },
   "outputs": [
    {
     "name": "stdout",
     "output_type": "stream",
     "text": [
      ".\n",
      ".\n",
      ".\n",
      "logged in\n"
     ]
    }
   ],
   "source": [
    "# do untill\n",
    "do {\n",
    "$userinput = Read-host \"Enter something\"\n",
    "Write-host \".\"\n",
    "} until($userinput -eq \"Password\")\n",
    "Write-host \"logged in\"\n"
   ]
  },
  {
   "cell_type": "code",
   "execution_count": 6,
   "metadata": {
    "dotnet_interactive": {
     "language": "pwsh"
    },
    "polyglot_notebook": {
     "kernelName": "pwsh"
    },
    "vscode": {
     "languageId": "polyglot-notebook"
    }
   },
   "outputs": [
    {
     "name": "stdout",
     "output_type": "stream",
     "text": [
      "0\n",
      "1\n",
      "2\n",
      "3\n",
      "4\n",
      "5\n"
     ]
    }
   ],
   "source": [
    "#for loops \n",
    "for ($counter = 0; $counter -le 5; $counter++)\n",
    "{Write-host $counter }"
   ]
  },
  {
   "cell_type": "code",
   "execution_count": null,
   "metadata": {
    "dotnet_interactive": {
     "language": "pwsh"
    },
    "polyglot_notebook": {
     "kernelName": "pwsh"
    },
    "vscode": {
     "languageId": "polyglot-notebook"
    }
   },
   "outputs": [],
   "source": []
  }
 ],
 "metadata": {
  "language_info": {
   "name": "python"
  }
 },
 "nbformat": 4,
 "nbformat_minor": 2
}
