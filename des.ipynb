{
 "cells": [
  {
   "cell_type": "code",
   "execution_count": 1,
   "metadata": {
    "dotnet_interactive": {
     "language": "pwsh"
    },
    "polyglot_notebook": {
     "kernelName": "pwsh"
    },
    "vscode": {
     "languageId": "polyglot-notebook"
    }
   },
   "outputs": [
    {
     "name": "stdout",
     "output_type": "stream",
     "text": [
      "hello world\r\n"
     ]
    }
   ],
   "source": [
    "write-host \"hello world\""
   ]
  },
  {
   "cell_type": "code",
   "execution_count": 5,
   "metadata": {
    "dotnet_interactive": {
     "language": "pwsh"
    },
    "polyglot_notebook": {
     "kernelName": "pwsh"
    },
    "vscode": {
     "languageId": "polyglot-notebook"
    }
   },
   "outputs": [
    {
     "name": "stdout",
     "output_type": "stream",
     "text": [
      "True\r\n"
     ]
    }
   ],
   "source": [
    "# a variable can hold a boolean vaule \n",
    "$booleanvariable = $true \n",
    "$booleanvariable"
   ]
  },
  {
   "cell_type": "code",
   "execution_count": 8,
   "metadata": {
    "dotnet_interactive": {
     "language": "pwsh"
    },
    "polyglot_notebook": {
     "kernelName": "pwsh"
    },
    "vscode": {
     "languageId": "polyglot-notebook"
    }
   },
   "outputs": [
    {
     "name": "stdout",
     "output_type": "stream",
     "text": [
      "False\r\n"
     ]
    }
   ],
   "source": [
    "# convert an integer to a boolean  \n",
    "$integarvariable = $123\n",
    "$booleanvariable =[bool]$integarvariable\n",
    "$booleanvariable"
   ]
  },
  {
   "cell_type": "code",
   "execution_count": null,
   "metadata": {
    "dotnet_interactive": {
     "language": "pwsh"
    },
    "polyglot_notebook": {
     "kernelName": "pwsh"
    },
    "vscode": {
     "languageId": "polyglot-notebook"
    }
   },
   "outputs": [],
   "source": [
    "# convert a string to a boolean \n",
    "$stringvariable \n"
   ]
  },
  {
   "cell_type": "code",
   "execution_count": 9,
   "metadata": {
    "dotnet_interactive": {
     "language": "pwsh"
    },
    "polyglot_notebook": {
     "kernelName": "pwsh"
    },
    "vscode": {
     "languageId": "polyglot-notebook"
    }
   },
   "outputs": [
    {
     "name": "stdout",
     "output_type": "stream",
     "text": [
      "False\r\n"
     ]
    }
   ],
   "source": [
    "# convert the words \"true\" or \"flase\" to boolean\n",
    "$truestringvarible = \"true\"\n",
    "$flasestringvariable = \"false\"\n",
    "$booleanvariable =[bool]::Parse($flasestringvariable)\n",
    "$booleanvariable"
   ]
  },
  {
   "cell_type": "code",
   "execution_count": 12,
   "metadata": {
    "dotnet_interactive": {
     "language": "pwsh"
    },
    "polyglot_notebook": {
     "kernelName": "pwsh"
    },
    "vscode": {
     "languageId": "polyglot-notebook"
    }
   },
   "outputs": [
    {
     "name": "stdout",
     "output_type": "stream",
     "text": [
      "False\n",
      "True\n",
      "False\n",
      "True\n",
      "False\n"
     ]
    }
   ],
   "source": [
    "# basic comparison \n",
    "1 -eq 5\n",
    "1 -lt 5\n",
    "1 -gt 5\n",
    "1 -le 5 \n",
    "1 -ge 5"
   ]
  },
  {
   "cell_type": "code",
   "execution_count": 13,
   "metadata": {
    "dotnet_interactive": {
     "language": "pwsh"
    },
    "polyglot_notebook": {
     "kernelName": "pwsh"
    },
    "vscode": {
     "languageId": "polyglot-notebook"
    }
   },
   "outputs": [
    {
     "name": "stdout",
     "output_type": "stream",
     "text": [
      "True\n",
      "True\n"
     ]
    }
   ],
   "source": [
    "# basic variable comparison \n",
    "$numberofusers = 5\n",
    "$numberofusers -lt 10\n",
    "$numberofusers -gt 0"
   ]
  },
  {
   "cell_type": "code",
   "execution_count": 14,
   "metadata": {
    "dotnet_interactive": {
     "language": "pwsh"
    },
    "polyglot_notebook": {
     "kernelName": "pwsh"
    },
    "vscode": {
     "languageId": "polyglot-notebook"
    }
   },
   "outputs": [
    {
     "name": "stdout",
     "output_type": "stream",
     "text": [
      "True\r\n"
     ]
    }
   ],
   "source": [
    "# decimal comparison    \n",
    "1.2 -lt 10.3"
   ]
  },
  {
   "cell_type": "code",
   "execution_count": 15,
   "metadata": {
    "dotnet_interactive": {
     "language": "pwsh"
    },
    "polyglot_notebook": {
     "kernelName": "pwsh"
    },
    "vscode": {
     "languageId": "polyglot-notebook"
    }
   },
   "outputs": [
    {
     "name": "stdout",
     "output_type": "stream",
     "text": [
      "1.4142135623731\r\n"
     ]
    }
   ],
   "source": [
    "# decimals are inaccurate \n",
    "[math]::sqrt(2)"
   ]
  },
  {
   "cell_type": "code",
   "execution_count": 17,
   "metadata": {
    "dotnet_interactive": {
     "language": "pwsh"
    },
    "polyglot_notebook": {
     "kernelName": "pwsh"
    },
    "vscode": {
     "languageId": "polyglot-notebook"
    }
   },
   "outputs": [
    {
     "name": "stdout",
     "output_type": "stream",
     "text": [
      "0.3\n",
      "False\n"
     ]
    }
   ],
   "source": [
    "#???\n",
    "$a = 0.1\n",
    "$b = 0.2\n",
    "$a + $b\n",
    "($a+ $b) -eq 0.3"
   ]
  },
  {
   "cell_type": "code",
   "execution_count": 21,
   "metadata": {
    "dotnet_interactive": {
     "language": "pwsh"
    },
    "polyglot_notebook": {
     "kernelName": "pwsh"
    },
    "vscode": {
     "languageId": "polyglot-notebook"
    }
   },
   "outputs": [
    {
     "name": "stdout",
     "output_type": "stream",
     "text": [
      "True\n",
      "True\n"
     ]
    }
   ],
   "source": [
    "# comparing strings \n",
    "\"hello\" -eq \"hello\"\n",
    "$userinput = \"password\"\n",
    "$userinput -eq \"password\""
   ]
  },
  {
   "cell_type": "code",
   "execution_count": 25,
   "metadata": {
    "dotnet_interactive": {
     "language": "pwsh"
    },
    "polyglot_notebook": {
     "kernelName": "pwsh"
    },
    "vscode": {
     "languageId": "polyglot-notebook"
    }
   },
   "outputs": [
    {
     "name": "stdout",
     "output_type": "stream",
     "text": [
      "False\n",
      "False\n"
     ]
    }
   ],
   "source": [
    "# less than? \n",
    "\"hello\" -lt \"goodbye\"\n",
    "\"hello world\" -lt \"helli world\""
   ]
  },
  {
   "cell_type": "code",
   "execution_count": 29,
   "metadata": {
    "dotnet_interactive": {
     "language": "pwsh"
    },
    "polyglot_notebook": {
     "kernelName": "pwsh"
    },
    "vscode": {
     "languageId": "polyglot-notebook"
    }
   },
   "outputs": [
    {
     "name": "stdout",
     "output_type": "stream",
     "text": [
      "True\n",
      "False\n",
      "True\n"
     ]
    }
   ],
   "source": [
    "# capitals? \n",
    "\"Hello\" -eq \"hello\"\n",
    "\"Hello\" -ceq \"hello\"\n",
    "\"Hello\" -ieq \"hello\""
   ]
  },
  {
   "cell_type": "code",
   "execution_count": 35,
   "metadata": {
    "dotnet_interactive": {
     "language": "pwsh"
    },
    "polyglot_notebook": {
     "kernelName": "pwsh"
    },
    "vscode": {
     "languageId": "polyglot-notebook"
    }
   },
   "outputs": [
    {
     "name": "stdout",
     "output_type": "stream",
     "text": [
      "(Hello)\n",
      "True\n",
      "True\n",
      "True\n"
     ]
    }
   ],
   "source": [
    "# non-letters\n",
    "\"(Hello)\"\n",
    "\"(Hello)\" -lt \"Hello\"\n",
    "\"(\" -lt \"a\"\n",
    "\"A\" -lt \"z\""
   ]
  },
  {
   "cell_type": "code",
   "execution_count": 37,
   "metadata": {
    "dotnet_interactive": {
     "language": "pwsh"
    },
    "polyglot_notebook": {
     "kernelName": "pwsh"
    },
    "vscode": {
     "languageId": "polyglot-notebook"
    }
   },
   "outputs": [
    {
     "name": "stdout",
     "output_type": "stream",
     "text": [
      "True\n",
      "False\n"
     ]
    }
   ],
   "source": [
    "# special character order \n",
    "\"!\" -lt \"+\"\n",
    "\"@\" -lt \"-\"\n"
   ]
  },
  {
   "cell_type": "code",
   "execution_count": 40,
   "metadata": {
    "dotnet_interactive": {
     "language": "pwsh"
    },
    "polyglot_notebook": {
     "kernelName": "pwsh"
    },
    "vscode": {
     "languageId": "polyglot-notebook"
    }
   },
   "outputs": [
    {
     "name": "stdout",
     "output_type": "stream",
     "text": [
      "False\n",
      "97\n"
     ]
    }
   ],
   "source": [
    "# ascii american standard code information interchange \n",
    "[char]\"a\" -lt [char]\"A\"\n",
    "[byte][char]\"a\""
   ]
  },
  {
   "cell_type": "code",
   "execution_count": 46,
   "metadata": {
    "dotnet_interactive": {
     "language": "pwsh"
    },
    "polyglot_notebook": {
     "kernelName": "pwsh"
    },
    "vscode": {
     "languageId": "polyglot-notebook"
    }
   },
   "outputs": [
    {
     "name": "stdout",
     "output_type": "stream",
     "text": [
      "True\n",
      "False\n",
      "True\n"
     ]
    }
   ],
   "source": [
    "# wildcards \n",
    "#get-childitem \"d*\"\n",
    "#get-childitem \"*.?pynb\"\n",
    "#Get-ChildItem \"tes[t]-check*\"\n",
    "\"this\" -like \"*hi*\"\n",
    "\"this\" -like \"th?t\"\n",
    "\"this\" -like \"th[ai][a-z]\""
   ]
  },
  {
   "cell_type": "code",
   "execution_count": 47,
   "metadata": {
    "dotnet_interactive": {
     "language": "pwsh"
    },
    "polyglot_notebook": {
     "kernelName": "pwsh"
    },
    "vscode": {
     "languageId": "polyglot-notebook"
    }
   },
   "outputs": [
    {
     "name": "stdout",
     "output_type": "stream",
     "text": [
      "\n",
      "    Directory: C:\\Users\\Neptu\\Documents\\prog1700\n",
      "\n",
      "\u001b[32;1mMode                 LastWriteTime         Length Name\u001b[0m\n",
      "\u001b[32;1m----                 -------------         ------ ----\u001b[0m\n",
      "d----           9/20/2023 10:00 AM                \u001b[44;1m.ipynb_checkpoints\u001b[0m\n",
      "-a---           10/1/2023  1:06 PM          22677 Assignment 1 - Input and Output.ipynb\n",
      "-a---           10/4/2023  9:26 AM           7111 des.ipynb\n",
      "-a---           9/20/2023 10:02 AM             89 \u001b[33;1mhello.ps1\u001b[0m\n",
      "-a---           9/26/2023  8:10 PM          26697 power shell basics.ipynb\n",
      "-a---           9/18/2023  6:40 PM            887 powershell basics\n",
      "-a---           10/1/2023  1:16 PM            382 \u001b[33;1mquadraticsroots.ps1\u001b[0m\n",
      "-a---           9/20/2023  8:30 AM           2506 test.ipynb\n",
      "-a---           9/20/2023 10:22 AM           8360 Untitled.ipynb\n",
      "\n"
     ]
    }
   ],
   "source": [
    "Get-ChildItem"
   ]
  },
  {
   "cell_type": "code",
   "execution_count": 50,
   "metadata": {
    "dotnet_interactive": {
     "language": "pwsh"
    },
    "polyglot_notebook": {
     "kernelName": "pwsh"
    },
    "vscode": {
     "languageId": "polyglot-notebook"
    }
   },
   "outputs": [
    {
     "name": "stdout",
     "output_type": "stream",
     "text": [
      "cats are difinityely less than dogs...\r\n"
     ]
    }
   ],
   "source": [
    "#basic if statement \n",
    "# action is preformed when comparision is true\n",
    "if(\"cat\" -lt \"dog\") { Write-host \"cats are difinityely less than dogs...\"}"
   ]
  },
  {
   "cell_type": "code",
   "execution_count": 51,
   "metadata": {
    "dotnet_interactive": {
     "language": "pwsh"
    },
    "polyglot_notebook": {
     "kernelName": "pwsh"
    },
    "vscode": {
     "languageId": "polyglot-notebook"
    }
   },
   "outputs": [
    {
     "name": "stdout",
     "output_type": "stream",
     "text": [
      "Licenses are still valid.\r\n"
     ]
    }
   ],
   "source": [
    "$numberofusers = 10 \n",
    "if ($numberofusers -lt 100){write-host \"Licenses are still valid.\"}"
   ]
  },
  {
   "cell_type": "code",
   "execution_count": 52,
   "metadata": {
    "dotnet_interactive": {
     "language": "pwsh"
    },
    "polyglot_notebook": {
     "kernelName": "pwsh"
    },
    "vscode": {
     "languageId": "polyglot-notebook"
    }
   },
   "outputs": [
    {
     "name": "stdout",
     "output_type": "stream",
     "text": [
      "This gets output when true.\r\n"
     ]
    }
   ],
   "source": [
    "#using boolean value \n",
    "if ( $true){ Write-host \"This gets output when true.\"}"
   ]
  },
  {
   "cell_type": "code",
   "execution_count": 54,
   "metadata": {
    "dotnet_interactive": {
     "language": "pwsh"
    },
    "polyglot_notebook": {
     "kernelName": "pwsh"
    },
    "vscode": {
     "languageId": "polyglot-notebook"
    }
   },
   "outputs": [
    {
     "name": "stdout",
     "output_type": "stream",
     "text": [
      "yep it works.\r\n"
     ]
    }
   ],
   "source": [
    "#even this would work \n",
    "if ([bool]1231343) {write-host \"yep it works.\"}"
   ]
  },
  {
   "cell_type": "code",
   "execution_count": 5,
   "metadata": {
    "dotnet_interactive": {
     "language": "pwsh"
    },
    "polyglot_notebook": {
     "kernelName": "pwsh"
    },
    "vscode": {
     "languageId": "polyglot-notebook"
    }
   },
   "outputs": [
    {
     "name": "stdout",
     "output_type": "stream",
     "text": [
      "happy long weekend!\r\n"
     ]
    }
   ],
   "source": [
    "# a simple flase comparison \n",
    "$today = \"thursday\"\n",
    "if ($today -ne \"friday\") {write-host \"happy long weekend!\"}\n",
    "if (-not($today -ne \"friday\")) {write-host \"happy long weekend!\"}"
   ]
  },
  {
   "cell_type": "code",
   "execution_count": 6,
   "metadata": {
    "dotnet_interactive": {
     "language": "pwsh"
    },
    "polyglot_notebook": {
     "kernelName": "pwsh"
    },
    "vscode": {
     "languageId": "polyglot-notebook"
    }
   },
   "outputs": [
    {
     "name": "stdout",
     "output_type": "stream",
     "text": [
      "incorrect\r\n"
     ]
    }
   ],
   "source": [
    "# using -not correctly \n",
    "$Valid = $flase\n",
    "if (-not $valid){ write-host \"incorrect\"}"
   ]
  },
  {
   "cell_type": "code",
   "execution_count": 8,
   "metadata": {
    "dotnet_interactive": {
     "language": "pwsh"
    },
    "polyglot_notebook": {
     "kernelName": "pwsh"
    },
    "vscode": {
     "languageId": "polyglot-notebook"
    }
   },
   "outputs": [
    {
     "name": "stdout",
     "output_type": "stream",
     "text": [
      "ham for you\r\n"
     ]
    }
   ],
   "source": [
    "# else statement \n",
    "$iliketurkey = $false\n",
    "if ( $iliketurkey) {write-host \"turkey it is\"}\n",
    "else {write-host \"ham for you\"}"
   ]
  },
  {
   "cell_type": "code",
   "execution_count": 11,
   "metadata": {
    "dotnet_interactive": {
     "language": "pwsh"
    },
    "polyglot_notebook": {
     "kernelName": "pwsh"
    },
    "vscode": {
     "languageId": "polyglot-notebook"
    }
   },
   "outputs": [
    {
     "name": "stdout",
     "output_type": "stream",
     "text": [
      "lima beans is what you get!\r\n"
     ]
    }
   ],
   "source": [
    "# elseif \n",
    "$favouritepie = \"meat\"\n",
    "IF ($favouritepie -eq \"Pumpkin\") {write-host \"need to buy small Pumpkins\"}elseif ( $favouritepie -eq \"apple\") { write-host \"a bag of apples is what i need\"} else { write-host \"lima beans is what you get!\"}"
   ]
  },
  {
   "cell_type": "code",
   "execution_count": 7,
   "metadata": {
    "dotnet_interactive": {
     "language": "pwsh"
    },
    "polyglot_notebook": {
     "kernelName": "pwsh"
    },
    "vscode": {
     "languageId": "polyglot-notebook"
    }
   },
   "outputs": [
    {
     "name": "stdout",
     "output_type": "stream",
     "text": [
      " needs some cranberry sauce.\r\n"
     ]
    }
   ],
   "source": [
    "# nested if statements \n",
    "$bestthanksgivingcondiment = \"Cranberry sauce\" \n",
    "$thanksgivingmeal = \"Turkey\" \n",
    " if ($bestthanksgivingcondiment -eq \"Cranberry sauce\"){ \n",
    "    if ($thanksgivingmeal -eq \"Turkey\") {\n",
    "        write-host \" needs some cranberry sauce.\"\n",
    "    }\n",
    "\n",
    "}"
   ]
  },
  {
   "cell_type": "code",
   "execution_count": 8,
   "metadata": {
    "dotnet_interactive": {
     "language": "pwsh"
    },
    "polyglot_notebook": {
     "kernelName": "pwsh"
    },
    "vscode": {
     "languageId": "polyglot-notebook"
    }
   },
   "outputs": [
    {
     "name": "stdout",
     "output_type": "stream",
     "text": [
      " needs some cranberry sauce.\r\n"
     ]
    }
   ],
   "source": [
    "# comparising if statements \n",
    "$bestthanksgivingcondiment = \"Cranberry sauce\" \n",
    "$thanksgivingmeal = \"Turkey\" \n",
    " if ($bestthanksgivingcondiment -eq \"Cranberry sauce\" -and $thanksgivingmeal -eq \"Turkey\") {\n",
    "        write-host \" needs some cranberry sauce.\"}"
   ]
  },
  {
   "cell_type": "code",
   "execution_count": 16,
   "metadata": {
    "dotnet_interactive": {
     "language": "pwsh"
    },
    "polyglot_notebook": {
     "kernelName": "pwsh"
    },
    "vscode": {
     "languageId": "polyglot-notebook"
    }
   },
   "outputs": [
    {
     "name": "stdout",
     "output_type": "stream",
     "text": [
      "pizza time\r\n"
     ]
    }
   ],
   "source": [
    "# bigger nested if statement \n",
    "$ihaveinlaws = $false \n",
    "if ($ihaveinlaws){\n",
    "    write-host \"a big thanksgiving meal is needed...\"\n",
    "    $inlawmealchoice = \"Turkey\"\n",
    "    if ($inlawmealchoice -eq \"Turkey\"){ write-host \"buy ham \"}\n",
    "    else { write-host \"buy Turkey\"}}\n",
    "    else {Write-host \"pizza time\" }\n",
    "\n"
   ]
  },
  {
   "cell_type": "code",
   "execution_count": 19,
   "metadata": {
    "dotnet_interactive": {
     "language": "pwsh"
    },
    "polyglot_notebook": {
     "kernelName": "pwsh"
    },
    "vscode": {
     "languageId": "polyglot-notebook"
    }
   },
   "outputs": [
    {
     "name": "stdout",
     "output_type": "stream",
     "text": [
      "buy Turkey\r\n"
     ]
    }
   ],
   "source": [
    "# bigger compound if statements \n",
    "$ihaveinlaws = $true \n",
    "$inlawmealchoice = \"ham\"\n",
    "if ($ihaveinlaws -and $inlawmealchoice -eq \"Turkey\")\n",
    "{ Write-host \"buy ham\"} elseif \n",
    "($ihaveinlaws -and $inlawmealchoice -ne \"Turkey\") {\n",
    "Write-host \"buy Turkey\"\n",
    "} else{ write-host \"pizza time\"}"
   ]
  },
  {
   "cell_type": "code",
   "execution_count": 25,
   "metadata": {
    "dotnet_interactive": {
     "language": "pwsh"
    },
    "polyglot_notebook": {
     "kernelName": "pwsh"
    },
    "vscode": {
     "languageId": "polyglot-notebook"
    }
   },
   "outputs": [
    {
     "name": "stdout",
     "output_type": "stream",
     "text": [
      "buy Turkey\r\n"
     ]
    }
   ],
   "source": [
    "# bigger compound if statements \n",
    "$ihaveinlaws = $true \n",
    "$inlawmealchoice = \"ham\"\n",
    "$myfavouritemeal = \n",
    "if ($ihaveinlaws -and $inlawmealchoice -eq \"Turkey\")\n",
    "{ Write-host \"buy ham\"} elseif \n",
    "($ihaveinlaws -or $myfavouritemeal -eq \"Turkey\" ) {\n",
    "Write-host \"buy Turkey\"\n",
    "} else{ write-host \"pizza time\"}"
   ]
  },
  {
   "cell_type": "code",
   "execution_count": 29,
   "metadata": {
    "dotnet_interactive": {
     "language": "pwsh"
    },
    "polyglot_notebook": {
     "kernelName": "pwsh"
    },
    "vscode": {
     "languageId": "polyglot-notebook"
    }
   },
   "outputs": [
    {
     "name": "stdout",
     "output_type": "stream",
     "text": [
      "purple\n",
      "orange\n",
      "green\n"
     ]
    }
   ],
   "source": [
    "# bigger example of compund if statements \n",
    "$color1 = \"red\"\n",
    "$color2 = \"blue\"\n",
    "$color3 = \"yellow\"\n",
    "if ( ($color1 -eq \"red\") -and ($color2 -eq \"blue\")) \n",
    "{write-host \"purple\"}\n",
    "if ( ($color1 -eq \"red\") -and ($color3 -eq \"yellow\"))\n",
    "{write-host \"orange\"}\n",
    "if ( ($color3 -eq \"yellow\") -and ($color2 -eq \"blue\")) \n",
    "{write-host \"green\"} "
   ]
  },
  {
   "cell_type": "code",
   "execution_count": 37,
   "metadata": {
    "dotnet_interactive": {
     "language": "pwsh"
    },
    "polyglot_notebook": {
     "kernelName": "pwsh"
    },
    "vscode": {
     "languageId": "polyglot-notebook"
    }
   },
   "outputs": [
    {
     "name": "stdout",
     "output_type": "stream",
     "text": [
      "orange\r\n"
     ]
    }
   ],
   "source": [
    "# bigger example of compund if statements \n",
    "$color1 = \"yellow\"\n",
    "$color2 = \"red\"\n",
    "\n",
    "if (( ($color1 -eq \"red\") -and ($color2 -eq \"blue\")) -or \n",
    "(($color1 -eq \"blue\") -and ($color2 -eq \"red\")))\n",
    "{write-host \"purple\"}\n",
    "if (( ($color1 -eq \"red\") -and ($color2 -eq \"yellow\")) -or \n",
    "($color1 -eq \"yellow\") -and ($color2 -eq \"red\"))\n",
    "{write-host \"orange\"}\n",
    "if (( ($color1 -eq \"yellow\") -and ($color2 -eq \"blue\")) -or \n",
    "(($color1 -eq \"blue\") -and ($color2 -eq \"yellow\")))\n",
    "{write-host \"green\"} "
   ]
  },
  {
   "cell_type": "code",
   "execution_count": 39,
   "metadata": {
    "dotnet_interactive": {
     "language": "pwsh"
    },
    "polyglot_notebook": {
     "kernelName": "pwsh"
    },
    "vscode": {
     "languageId": "polyglot-notebook"
    }
   },
   "outputs": [
    {
     "name": "stdout",
     "output_type": "stream",
     "text": [
      "purple\r\n"
     ]
    }
   ],
   "source": [
    "# bigger example of compund if statements \n",
    "$color1 = \"blue\"\n",
    "$color2 = \"red\"\n",
    "#prioritize the colors by alphabetic order\n",
    "if ($color1 -gt $color2)\n",
    " { $temp = $color1 \n",
    "    $color1 = $color2 \n",
    "    $color2 = $temp}\n",
    "if ( ($color1 -eq \"blue\") -and ($color2 -eq \"red\"))\n",
    "{write-host \"purple\"}\n",
    "if (( ($color1 -eq \"red\") -and ($color2 -eq \"yellow\")) -or \n",
    "($color1 -eq \"yellow\") -and ($color2 -eq \"red\"))\n",
    "{write-host \"orange\"}\n",
    "if (( ($color1 -eq \"yellow\") -and ($color2 -eq \"blue\")) -or \n",
    "(($color1 -eq \"blue\") -and ($color2 -eq \"yellow\")))\n",
    "{write-host \"green\"} "
   ]
  },
  {
   "cell_type": "code",
   "execution_count": null,
   "metadata": {
    "dotnet_interactive": {
     "language": "pwsh"
    },
    "polyglot_notebook": {
     "kernelName": "pwsh"
    },
    "vscode": {
     "languageId": "polyglot-notebook"
    }
   },
   "outputs": [],
   "source": []
  }
 ],
 "metadata": {
  "language_info": {
   "name": "python"
  }
 },
 "nbformat": 4,
 "nbformat_minor": 2
}
