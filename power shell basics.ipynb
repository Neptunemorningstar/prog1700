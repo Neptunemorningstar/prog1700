{
 "cells": [
  {
   "cell_type": "code",
   "execution_count": null,
   "metadata": {
    "dotnet_interactive": {
     "language": "pwsh"
    },
    "polyglot_notebook": {
     "kernelName": "pwsh"
    },
    "vscode": {
     "languageId": "polyglot-notebook"
    }
   },
   "outputs": [],
   "source": [
    "# this is my first powershell command!\n",
    "Write-host \"hello world\""
   ]
  },
  {
   "cell_type": "code",
   "execution_count": 1,
   "metadata": {
    "dotnet_interactive": {
     "language": "pwsh"
    },
    "polyglot_notebook": {
     "kernelName": "pwsh"
    },
    "vscode": {
     "languageId": "polyglot-notebook"
    }
   },
   "outputs": [
    {
     "name": "stdout",
     "output_type": "stream",
     "text": [
      "My second powershell statement!\r\n"
     ]
    }
   ],
   "source": [
    "Write-Host \"My second powershell statement!\""
   ]
  },
  {
   "cell_type": "code",
   "execution_count": 3,
   "metadata": {
    "dotnet_interactive": {
     "language": "pwsh"
    },
    "polyglot_notebook": {
     "kernelName": "pwsh"
    },
    "vscode": {
     "languageId": "polyglot-notebook"
    }
   },
   "outputs": [],
   "source": [
    "# bad varibles names\n",
    "\n",
    "# dont use just a number \n",
    "$5 = 123 \n",
    "\n",
    "#dont  have spaces iin the names\n",
    "#$ \"street address\" = \"5685 leads st.\" \n",
    "# dont include special characters (!@#$%()+={}/\\?)\n",
    "$money = 123.45\n",
    "\n",
    "# an exception is underscores (_)\n",
    "# I_like_pies "
   ]
  },
  {
   "cell_type": "code",
   "execution_count": 5,
   "metadata": {
    "dotnet_interactive": {
     "language": "pwsh"
    },
    "polyglot_notebook": {
     "kernelName": "pwsh"
    },
    "vscode": {
     "languageId": "polyglot-notebook"
    }
   },
   "outputs": [
    {
     "name": "stdout",
     "output_type": "stream",
     "text": [
      "C:\\Users\\Neptu\\Documents\\PowerShell\\Microsoft.dotnet-interactive_profile.ps1\n",
      "C:\\Users\\Neptu\\Documents\\PowerShell\\Microsoft.dotnet-interactive_profile.ps1\n"
     ]
    }
   ],
   "source": [
    "Write-Host $PROFILE\n",
    "Write-Host $profile"
   ]
  },
  {
   "cell_type": "code",
   "execution_count": 6,
   "metadata": {
    "dotnet_interactive": {
     "language": "pwsh"
    },
    "polyglot_notebook": {
     "kernelName": "pwsh"
    },
    "vscode": {
     "languageId": "polyglot-notebook"
    }
   },
   "outputs": [
    {
     "name": "stdout",
     "output_type": "stream",
     "text": [
      "123 +999 -555 0 13123123123123123123\r\n"
     ]
    }
   ],
   "source": [
    "# integers\n",
    "Write-Host 123 +999 -555 0 13123123123123123123"
   ]
  },
  {
   "cell_type": "code",
   "execution_count": 1,
   "metadata": {
    "dotnet_interactive": {
     "language": "pwsh"
    },
    "polyglot_notebook": {
     "kernelName": "pwsh"
    },
    "vscode": {
     "languageId": "polyglot-notebook"
    }
   },
   "outputs": [
    {
     "name": "stdout",
     "output_type": "stream",
     "text": [
      "True\n",
      "\n",
      "\u001b[32;1mIsPublic IsSerial Name                                     BaseType\u001b[0m\n",
      "\u001b[32;1m-------- -------- ----                                     --------\u001b[0m\n",
      "True     True     Boolean                                  System.ValueType\n",
      "\n"
     ]
    }
   ],
   "source": [
    "# boolean values \n",
    "$True\n",
    "$False.GetType()"
   ]
  },
  {
   "cell_type": "code",
   "execution_count": 3,
   "metadata": {
    "dotnet_interactive": {
     "language": "pwsh"
    },
    "polyglot_notebook": {
     "kernelName": "pwsh"
    },
    "vscode": {
     "languageId": "polyglot-notebook"
    }
   },
   "outputs": [
    {
     "name": "stdout",
     "output_type": "stream",
     "text": [
      "5551212 System.Int32\r\n"
     ]
    }
   ],
   "source": [
    "$PhoneNumber = 5551212 \n",
    "Write-Host $phonenumber $phonenumber.gettype()"
   ]
  },
  {
   "cell_type": "code",
   "execution_count": 5,
   "metadata": {
    "dotnet_interactive": {
     "language": "pwsh"
    },
    "polyglot_notebook": {
     "kernelName": "pwsh"
    },
    "vscode": {
     "languageId": "polyglot-notebook"
    }
   },
   "outputs": [
    {
     "name": "stdout",
     "output_type": "stream",
     "text": [
      "5551212 System.Double\r\n"
     ]
    }
   ],
   "source": [
    "[double]$PhoneNumber = 5551212 \n",
    "Write-Host $phonenumber $phonenumber.gettype()"
   ]
  },
  {
   "cell_type": "code",
   "execution_count": 6,
   "metadata": {
    "dotnet_interactive": {
     "language": "pwsh"
    },
    "polyglot_notebook": {
     "kernelName": "pwsh"
    },
    "vscode": {
     "languageId": "polyglot-notebook"
    }
   },
   "outputs": [
    {
     "name": "stdout",
     "output_type": "stream",
     "text": [
      "5551212 System.String\r\n"
     ]
    }
   ],
   "source": [
    "[string]$PhoneNumber = 5551212 \n",
    "Write-Host $phonenumber $phonenumber.gettype()"
   ]
  },
  {
   "cell_type": "code",
   "execution_count": 7,
   "metadata": {
    "dotnet_interactive": {
     "language": "pwsh"
    },
    "polyglot_notebook": {
     "kernelName": "pwsh"
    },
    "vscode": {
     "languageId": "polyglot-notebook"
    }
   },
   "outputs": [
    {
     "name": "stdout",
     "output_type": "stream",
     "text": [
      "5551212 System.String\r\n"
     ]
    }
   ],
   "source": [
    "[string]$PhoneNumber = \"5551212\"\n",
    "Write-Host $phonenumber $phonenumber.gettype()"
   ]
  },
  {
   "cell_type": "code",
   "execution_count": 10,
   "metadata": {
    "dotnet_interactive": {
     "language": "pwsh"
    },
    "polyglot_notebook": {
     "kernelName": "pwsh"
    },
    "vscode": {
     "languageId": "polyglot-notebook"
    }
   },
   "outputs": [
    {
     "name": "stdout",
     "output_type": "stream",
     "text": [
      "True System.Boolean\r\n"
     ]
    }
   ],
   "source": [
    "[boolean]$PhoneNumber = 5551212\n",
    "Write-Host $PhoneNumber $PhoneNumber.gettype()"
   ]
  },
  {
   "cell_type": "code",
   "execution_count": 13,
   "metadata": {
    "dotnet_interactive": {
     "language": "pwsh"
    },
    "polyglot_notebook": {
     "kernelName": "pwsh"
    },
    "vscode": {
     "languageId": "polyglot-notebook"
    }
   },
   "outputs": [
    {
     "name": "stdout",
     "output_type": "stream",
     "text": [
      "False\n",
      "False\n",
      "True\n"
     ]
    }
   ],
   "source": [
    "[boolean](0)\n",
    "[boolean](\"\")\n",
    "[boolean](0.1)"
   ]
  },
  {
   "cell_type": "code",
   "execution_count": 16,
   "metadata": {
    "dotnet_interactive": {
     "language": "powershell"
    },
    "polyglot_notebook": {
     "kernelName": "powershell"
    },
    "vscode": {
     "languageId": "polyglot-notebook"
    }
   },
   "outputs": [
    {
     "name": "stdout",
     "output_type": "stream",
     "text": [
      "1024\n",
      "3346853265408\n"
     ]
    }
   ],
   "source": [
    "# datatupe multipler\n",
    "1kb\n",
    "45gb + 3tb\n"
   ]
  },
  {
   "cell_type": "code",
   "execution_count": 19,
   "metadata": {
    "dotnet_interactive": {
     "language": "pwsh"
    },
    "polyglot_notebook": {
     "kernelName": "pwsh"
    },
    "vscode": {
     "languageId": "polyglot-notebook"
    }
   },
   "outputs": [
    {
     "name": "stdout",
     "output_type": "stream",
     "text": [
      "36\r\n"
     ]
    }
   ],
   "source": [
    "# go the other way\n",
    "$HardDrive = 36tb   \n",
    "Write-Host ($HardDrive / 1tb )"
   ]
  },
  {
   "cell_type": "code",
   "execution_count": 21,
   "metadata": {
    "dotnet_interactive": {
     "language": "pwsh"
    },
    "polyglot_notebook": {
     "kernelName": "pwsh"
    },
    "vscode": {
     "languageId": "polyglot-notebook"
    }
   },
   "outputs": [
    {
     "name": "stdout",
     "output_type": "stream",
     "text": [
      "3\n",
      "4\n",
      "4\n",
      "5\n",
      "3\n",
      "1\n"
     ]
    }
   ],
   "source": [
    "# math operations \n",
    "1 + 2\n",
    "2 * 2 \n",
    "10 - 6\n",
    "100 / 20 \n",
    "[int](10/3)\n",
    "10 % 3 # modulus division gives the remainder of a division"
   ]
  },
  {
   "cell_type": "code",
   "execution_count": null,
   "metadata": {
    "dotnet_interactive": {
     "language": "pwsh"
    },
    "polyglot_notebook": {
     "kernelName": "pwsh"
    },
    "vscode": {
     "languageId": "polyglot-notebook"
    }
   },
   "outputs": [],
   "source": [
    "# order of operations \n",
    "2 * 2 + 6^2 / ( 4 -32 )"
   ]
  },
  {
   "cell_type": "code",
   "execution_count": 1,
   "metadata": {
    "dotnet_interactive": {
     "language": "pwsh"
    },
    "polyglot_notebook": {
     "kernelName": "pwsh"
    },
    "vscode": {
     "languageId": "polyglot-notebook"
    }
   },
   "outputs": [
    {
     "name": "stdout",
     "output_type": "stream",
     "text": [
      "36\r\n"
     ]
    }
   ],
   "source": [
    "# exponents\n",
    "[math]::pow(6, 2)\n"
   ]
  },
  {
   "cell_type": "code",
   "execution_count": 25,
   "metadata": {
    "dotnet_interactive": {
     "language": "pwsh"
    },
    "polyglot_notebook": {
     "kernelName": "pwsh"
    },
    "vscode": {
     "languageId": "polyglot-notebook"
    }
   },
   "outputs": [
    {
     "name": "stdout",
     "output_type": "stream",
     "text": [
      "2.71428571428571\r\n"
     ]
    }
   ],
   "source": [
    "2 * 2 + [Math]::pow(6, 2) / (4-32)"
   ]
  },
  {
   "cell_type": "code",
   "execution_count": 6,
   "metadata": {
    "dotnet_interactive": {
     "language": "pwsh"
    },
    "polyglot_notebook": {
     "kernelName": "pwsh"
    },
    "vscode": {
     "languageId": "polyglot-notebook"
    }
   },
   "outputs": [
    {
     "name": "stdout",
     "output_type": "stream",
     "text": [
      "\n",
      "   TypeName: System.Math\n",
      "\n",
      "\u001b[32;1mName                   MemberType Definition\u001b[0m\n",
      "\u001b[32;1m----                   ---------- ----------\u001b[0m\n",
      "Abs                    Method     static short Abs(short value), static int Abs(int value), static…\n",
      "Acos                   Method     static double Acos(double d)\n",
      "Acosh                  Method     static double Acosh(double d)\n",
      "Asin                   Method     static double Asin(double d)\n",
      "Asinh                  Method     static double Asinh(double d)\n",
      "Atan                   Method     static double Atan(double d)\n",
      "Atan2                  Method     static double Atan2(double y, double x)\n",
      "Atanh                  Method     static double Atanh(double d)\n",
      "BigMul                 Method     static long BigMul(int a, int b), static ulong BigMul(ulong a, u…\n",
      "BitDecrement           Method     static double BitDecrement(double x)\n",
      "BitIncrement           Method     static double BitIncrement(double x)\n",
      "Cbrt                   Method     static double Cbrt(double d)\n",
      "Ceiling                Method     static double Ceiling(double a), static decimal Ceiling(decimal …\n",
      "Clamp                  Method     static byte Clamp(byte value, byte min, byte max), static decima…\n",
      "CopySign               Method     static double CopySign(double x, double y)\n",
      "Cos                    Method     static double Cos(double d)\n",
      "Cosh                   Method     static double Cosh(double value)\n",
      "DivRem                 Method     static int DivRem(int a, int b, [ref] int result), static long D…\n",
      "Equals                 Method     static bool Equals(System.Object objA, System.Object objB)\n",
      "Exp                    Method     static double Exp(double d)\n",
      "Floor                  Method     static double Floor(double d), static decimal Floor(decimal d)\n",
      "FusedMultiplyAdd       Method     static double FusedMultiplyAdd(double x, double y, double z)\n",
      "IEEERemainder          Method     static double IEEERemainder(double x, double y)\n",
      "ILogB                  Method     static int ILogB(double x)\n",
      "Log                    Method     static double Log(double d), static double Log(double a, double …\n",
      "Log10                  Method     static double Log10(double d)\n",
      "Log2                   Method     static double Log2(double x)\n",
      "Max                    Method     static byte Max(byte val1, byte val2), static decimal Max(decima…\n",
      "MaxMagnitude           Method     static double MaxMagnitude(double x, double y)\n",
      "Min                    Method     static byte Min(byte val1, byte val2), static decimal Min(decima…\n",
      "MinMagnitude           Method     static double MinMagnitude(double x, double y)\n",
      "Pow                    Method     static double Pow(double x, double y)\n",
      "ReciprocalEstimate     Method     static double ReciprocalEstimate(double d)\n",
      "ReciprocalSqrtEstimate Method     static double ReciprocalSqrtEstimate(double d)\n",
      "ReferenceEquals        Method     static bool ReferenceEquals(System.Object objA, System.Object ob…\n",
      "Round                  Method     static decimal Round(decimal d), static decimal Round(decimal d,…\n",
      "ScaleB                 Method     static double ScaleB(double x, int n)\n",
      "Sign                   Method     static int Sign(decimal value), static int Sign(double value), s…\n",
      "Sin                    Method     static double Sin(double a)\n",
      "SinCos                 Method     static System.ValueTuple[double,double] SinCos(double x)\n",
      "Sinh                   Method     static double Sinh(double value)\n",
      "Sqrt                   Method     static double Sqrt(double d)\n",
      "Tan                    Method     static double Tan(double a)\n",
      "Tanh                   Method     static double Tanh(double value)\n",
      "Truncate               Method     static decimal Truncate(decimal d), static double Truncate(doubl…\n",
      "E                      Property   static double E {get;}\n",
      "PI                     Property   static double PI {get;}\n",
      "Tau                    Property   static double Tau {get;}\n",
      "\n"
     ]
    }
   ],
   "source": [
    "[math] | get-member -static "
   ]
  },
  {
   "cell_type": "code",
   "execution_count": 3,
   "metadata": {
    "dotnet_interactive": {
     "language": "pwsh"
    },
    "polyglot_notebook": {
     "kernelName": "pwsh"
    },
    "vscode": {
     "languageId": "polyglot-notebook"
    }
   },
   "outputs": [
    {
     "name": "stdout",
     "output_type": "stream",
     "text": [
      "3.14159265358979\r\n"
     ]
    }
   ],
   "source": [
    "[math]::PI"
   ]
  },
  {
   "cell_type": "code",
   "execution_count": 5,
   "metadata": {
    "dotnet_interactive": {
     "language": "pwsh"
    },
    "polyglot_notebook": {
     "kernelName": "pwsh"
    },
    "vscode": {
     "languageId": "polyglot-notebook"
    }
   },
   "outputs": [
    {
     "name": "stdout",
     "output_type": "stream",
     "text": [
      "9.42477796076938\r\n"
     ]
    }
   ],
   "source": [
    "[math]::PI * 3"
   ]
  },
  {
   "cell_type": "code",
   "execution_count": 8,
   "metadata": {
    "dotnet_interactive": {
     "language": "pwsh"
    },
    "polyglot_notebook": {
     "kernelName": "pwsh"
    },
    "vscode": {
     "languageId": "polyglot-notebook"
    }
   },
   "outputs": [
    {
     "name": "stdout",
     "output_type": "stream",
     "text": [
      "5\r\n"
     ]
    }
   ],
   "source": [
    "[Math]::Sqrt(25)"
   ]
  },
  {
   "cell_type": "code",
   "execution_count": 13,
   "metadata": {
    "dotnet_interactive": {
     "language": "pwsh"
    },
    "polyglot_notebook": {
     "kernelName": "pwsh"
    },
    "vscode": {
     "languageId": "polyglot-notebook"
    }
   },
   "outputs": [
    {
     "name": "stdout",
     "output_type": "stream",
     "text": [
      "4\n",
      "4.71238898038469\n"
     ]
    }
   ],
   "source": [
    "$Calculation =[math]::PI * 3/2\n",
    "[Math]::Floor($Calculation)\n",
    "$Calculation"
   ]
  },
  {
   "cell_type": "code",
   "execution_count": 15,
   "metadata": {
    "dotnet_interactive": {
     "language": "pwsh"
    },
    "polyglot_notebook": {
     "kernelName": "pwsh"
    },
    "vscode": {
     "languageId": "polyglot-notebook"
    }
   },
   "outputs": [
    {
     "name": "stdout",
     "output_type": "stream",
     "text": [
      "5\n",
      "4.71238898038469\n"
     ]
    }
   ],
   "source": [
    "$Calculation =[math]::PI * 3/2\n",
    "[Math]::ceiling($Calculation)\n",
    "$Calculation"
   ]
  },
  {
   "cell_type": "code",
   "execution_count": 25,
   "metadata": {
    "dotnet_interactive": {
     "language": "pwsh"
    },
    "polyglot_notebook": {
     "kernelName": "pwsh"
    },
    "vscode": {
     "languageId": "polyglot-notebook"
    }
   },
   "outputs": [
    {
     "name": "stdout",
     "output_type": "stream",
     "text": [
      "4.712\n",
      "4.71238898038469\n"
     ]
    }
   ],
   "source": [
    "$Calculation =[math]::PI * 3/2\n",
    "[Math]::round($Calculation, 3)\n",
    "$Calculation"
   ]
  },
  {
   "cell_type": "code",
   "execution_count": 32,
   "metadata": {
    "dotnet_interactive": {
     "language": "pwsh"
    },
    "polyglot_notebook": {
     "kernelName": "pwsh"
    },
    "vscode": {
     "languageId": "polyglot-notebook"
    }
   },
   "outputs": [
    {
     "name": "stdout",
     "output_type": "stream",
     "text": [
      "4\r\n"
     ]
    }
   ],
   "source": [
    "$sum = 1 + 2\n",
    "$Sum = $Sum + 1\n",
    "$sum"
   ]
  },
  {
   "cell_type": "code",
   "execution_count": 2,
   "metadata": {
    "dotnet_interactive": {
     "language": "pwsh"
    },
    "polyglot_notebook": {
     "kernelName": "pwsh"
    },
    "vscode": {
     "languageId": "polyglot-notebook"
    }
   },
   "outputs": [
    {
     "name": "stdout",
     "output_type": "stream",
     "text": [
      "5\r\n"
     ]
    }
   ],
   "source": [
    "$Sum = 1 + 2 \n",
    "$Sum = $Sum + 1\n",
    "$Sum +=1 \n",
    "$Sum++\n",
    "$Sum--\n",
    "\n",
    "$Sum\n"
   ]
  },
  {
   "cell_type": "code",
   "execution_count": 42,
   "metadata": {
    "dotnet_interactive": {
     "language": "pwsh"
    },
    "polyglot_notebook": {
     "kernelName": "pwsh"
    },
    "vscode": {
     "languageId": "polyglot-notebook"
    }
   },
   "outputs": [
    {
     "name": "stdout",
     "output_type": "stream",
     "text": [
      "hello world\r\n"
     ]
    }
   ],
   "source": [
    "# create a string \n",
    "$text = \"hello world\"\n",
    "$text"
   ]
  },
  {
   "cell_type": "code",
   "execution_count": 49,
   "metadata": {
    "dotnet_interactive": {
     "language": "pwsh"
    },
    "polyglot_notebook": {
     "kernelName": "pwsh"
    },
    "vscode": {
     "languageId": "polyglot-notebook"
    }
   },
   "outputs": [
    {
     "name": "stdout",
     "output_type": "stream",
     "text": [
      "helloworld\r\n"
     ]
    }
   ],
   "source": [
    "# concatenate string\n",
    "$text = \"hello\" + \"world\"\n",
    "$text"
   ]
  },
  {
   "cell_type": "code",
   "execution_count": 3,
   "metadata": {
    "dotnet_interactive": {
     "language": "pwsh"
    },
    "polyglot_notebook": {
     "kernelName": "pwsh"
    },
    "vscode": {
     "languageId": "polyglot-notebook"
    }
   },
   "outputs": [
    {
     "name": "stdout",
     "output_type": "stream",
     "text": [
      "Price : 123.45\r\n"
     ]
    }
   ],
   "source": [
    "# concatenate strings and number \n",
    "$Price = \"Price : \" +123.45\n",
    "$Price"
   ]
  },
  {
   "cell_type": "code",
   "execution_count": 5,
   "metadata": {
    "dotnet_interactive": {
     "language": "pwsh"
    },
    "polyglot_notebook": {
     "kernelName": "pwsh"
    },
    "vscode": {
     "languageId": "polyglot-notebook"
    }
   },
   "outputs": [
    {
     "name": "stdout",
     "output_type": "stream",
     "text": [
      "\u001b[31;1mInvalidArgument: \u001b[0m\n",
      "\u001b[31;1m\u001b[36;1mLine |\u001b[0m\n",
      "\u001b[31;1m\u001b[36;1m\u001b[36;1m   3 | \u001b[0m \u001b[36;1m$Address = 5685 + \"Leeds St.\"\u001b[0m\n",
      "\u001b[31;1m\u001b[36;1m\u001b[36;1m\u001b[0m\u001b[36;1m\u001b[0m\u001b[36;1m     | \u001b[31;1m ~~~~~~~~~~~~~~~~~~~~~~~~~~~~~\u001b[0m\n",
      "\u001b[31;1m\u001b[36;1m\u001b[36;1m\u001b[0m\u001b[36;1m\u001b[0m\u001b[36;1m\u001b[31;1m\u001b[31;1m\u001b[36;1m     | \u001b[31;1mCannot convert value \"Leeds St.\" to type \"System.Int32\". Error: \"The input string 'Leeds St.' was not in a correct format.\"\u001b[0m\n"
     ]
    }
   ],
   "source": [
    "# concatenate number and strings (adding!)\n",
    "# error! because it can't convert \"Leeds St.\" into a number\n",
    "$Address = 5685 + \"Leeds St.\"\n",
    "$Address"
   ]
  },
  {
   "cell_type": "code",
   "execution_count": 54,
   "metadata": {
    "dotnet_interactive": {
     "language": "pwsh"
    },
    "polyglot_notebook": {
     "kernelName": "pwsh"
    },
    "vscode": {
     "languageId": "polyglot-notebook"
    }
   },
   "outputs": [
    {
     "name": "stdout",
     "output_type": "stream",
     "text": [
      "Sum = 3\r\n"
     ]
    }
   ],
   "source": [
    "# concatenate a string and a calculation\n",
    "$Answer = \"Sum = \" + (1 + 2)\n",
    "$Answer"
   ]
  },
  {
   "cell_type": "code",
   "execution_count": 59,
   "metadata": {
    "dotnet_interactive": {
     "language": "pwsh"
    },
    "polyglot_notebook": {
     "kernelName": "pwsh"
    },
    "vscode": {
     "languageId": "polyglot-notebook"
    }
   },
   "outputs": [
    {
     "name": "stdout",
     "output_type": "stream",
     "text": [
      "Sum = 3, Diff =-1, product = 2\r\n"
     ]
    }
   ],
   "source": [
    "#large statement  \n",
    "$Answer = \"Sum = \" + (1 + 2) + \", Diff =\" + ( 1 - 2 ) + \", product = \" + (1 * 2)\n",
    "$Answer"
   ]
  },
  {
   "cell_type": "code",
   "execution_count": 6,
   "metadata": {
    "dotnet_interactive": {
     "language": "pwsh"
    },
    "polyglot_notebook": {
     "kernelName": "pwsh"
    },
    "vscode": {
     "languageId": "polyglot-notebook"
    }
   },
   "outputs": [
    {
     "name": "stdout",
     "output_type": "stream",
     "text": [
      "Sum = 3, Diff = -1, Product 2\r\n"
     ]
    }
   ],
   "source": [
    "# formatting string\n",
    "$Answer = \"Sum = {0}, Diff = {1}, Product {2}\" -f (1+2), (1-2), (1*2)\n",
    "$Answer"
   ]
  },
  {
   "cell_type": "code",
   "execution_count": 8,
   "metadata": {
    "dotnet_interactive": {
     "language": "pwsh"
    },
    "polyglot_notebook": {
     "kernelName": "pwsh"
    },
    "vscode": {
     "languageId": "polyglot-notebook"
    }
   },
   "outputs": [
    {
     "name": "stdout",
     "output_type": "stream",
     "text": [
      "Sum = 3, Diff = -1, Product 2\r\n"
     ]
    }
   ],
   "source": [
    "# formatted string + write-host \n",
    "Write-Host (\"Sum = {0}, Diff = {1}, Product {2}\" -f (1+2), (1-2), (1*2))\n"
   ]
  },
  {
   "cell_type": "code",
   "execution_count": 11,
   "metadata": {
    "dotnet_interactive": {
     "language": "pwsh"
    },
    "polyglot_notebook": {
     "kernelName": "pwsh"
    },
    "vscode": {
     "languageId": "polyglot-notebook"
    }
   },
   "outputs": [
    {
     "name": "stdout",
     "output_type": "stream",
     "text": [
      "Sum = 3, Diff = -1, Product 2\r\n"
     ]
    }
   ],
   "source": [
    "# formatted string + write-host \n",
    "$Sum = 1+2\n",
    "$Difference = 1-2 \n",
    "$Product = 1*2\n",
    "Write-Host (\"Sum = {0}, Diff = {1}, Product {2}\" -f $Sum, $Difference, $Product)"
   ]
  },
  {
   "cell_type": "code",
   "execution_count": 19,
   "metadata": {
    "dotnet_interactive": {
     "language": "pwsh"
    },
    "polyglot_notebook": {
     "kernelName": "pwsh"
    },
    "vscode": {
     "languageId": "polyglot-notebook"
    }
   },
   "outputs": [
    {
     "name": "stdout",
     "output_type": "stream",
     "text": [
      "Sum = 3, Diff = -1, Product = 2\r\n"
     ]
    }
   ],
   "source": [
    "# formatted string + Write Host \n",
    "$Sum = 1 + 2\n",
    "$Difference = 1 - 2 \n",
    "$Product = 1 * 2\n",
    "Write-Host \"Sum = $Sum, Diff = $Difference, Product = $Product\""
   ]
  },
  {
   "cell_type": "code",
   "execution_count": 22,
   "metadata": {
    "dotnet_interactive": {
     "language": "pwsh"
    },
    "polyglot_notebook": {
     "kernelName": "pwsh"
    },
    "vscode": {
     "languageId": "polyglot-notebook"
    }
   },
   "outputs": [
    {
     "name": "stdout",
     "output_type": "stream",
     "text": [
      "dog\r\n"
     ]
    }
   ],
   "source": [
    "# substring \n",
    "\"cat dog mouse\".substring( 4,3 )"
   ]
  },
  {
   "cell_type": "code",
   "execution_count": 24,
   "metadata": {
    "dotnet_interactive": {
     "language": "pwsh"
    },
    "polyglot_notebook": {
     "kernelName": "pwsh"
    },
    "vscode": {
     "languageId": "polyglot-notebook"
    }
   },
   "outputs": [
    {
     "name": "stdout",
     "output_type": "stream",
     "text": [
      "dog\n",
      "dog\n",
      "cat dog mouse\n",
      "catmouse\n"
     ]
    }
   ],
   "source": [
    "# substring \n",
    "\"cat dog mouse\".substring( 4,3 )\n",
    "$Animals = \"cat dog mouse\"\n",
    "$animals.Substring(4, 3)\n",
    "$animals \n",
    "$Animals.Substring(0, 3) + $animals.Substring( 8,5)"
   ]
  },
  {
   "cell_type": "code",
   "execution_count": 29,
   "metadata": {
    "dotnet_interactive": {
     "language": "pwsh"
    },
    "polyglot_notebook": {
     "kernelName": "pwsh"
    },
    "vscode": {
     "languageId": "polyglot-notebook"
    }
   },
   "outputs": [
    {
     "name": "stdout",
     "output_type": "stream",
     "text": [
      "Row Row Row your boat\r\n"
     ]
    }
   ],
   "source": [
    "# replication operator \n",
    "$Song = \"Row \"*3\n",
    "$Song + \"your boat\""
   ]
  },
  {
   "cell_type": "code",
   "execution_count": null,
   "metadata": {
    "dotnet_interactive": {
     "language": "powershell"
    },
    "polyglot_notebook": {
     "kernelName": "powershell"
    },
    "vscode": {
     "languageId": "polyglot-notebook"
    }
   },
   "outputs": [],
   "source": []
  }
 ],
 "metadata": {
  "kernelspec": {
   "display_name": ".NET (PowerShell)",
   "language": "PowerShell",
   "name": ".net-powershell"
  },
  "language_info": {
   "file_extension": ".ps1",
   "mimetype": "text/x-powershell",
   "name": "PowerShell",
   "pygments_lexer": "powershell",
   "version": "7.0"
  }
 },
 "nbformat": 4,
 "nbformat_minor": 5
}
